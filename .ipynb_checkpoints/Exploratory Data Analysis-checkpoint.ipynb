{
 "cells": [
  {
   "cell_type": "markdown",
   "metadata": {},
   "source": [
    "# Explore the dataset\n",
    "\n",
    "\n",
    "In this notebook, we will perform an EDA (Exploratory Data Analysis) on the processed Waymo dataset (data in the `processed` folder). In the first part, you will create a function to display "
   ]
  },
  {
   "cell_type": "code",
   "execution_count": 1,
   "metadata": {},
   "outputs": [],
   "source": [
    "from utils import get_dataset"
   ]
  },
  {
   "cell_type": "code",
   "execution_count": 2,
   "metadata": {},
   "outputs": [
    {
     "name": "stdout",
     "output_type": "stream",
     "text": [
      "INFO:tensorflow:Reading unweighted datasets: ['/home/workspace/data/waymo/training_and_validation/segment-1005081002024129653_5313_150_5333_150_with_camera_labels.tfrecord']\n",
      "INFO:tensorflow:Reading record datasets for input file: ['/home/workspace/data/waymo/training_and_validation/segment-1005081002024129653_5313_150_5333_150_with_camera_labels.tfrecord']\n",
      "INFO:tensorflow:Number of filenames to read: 1\n",
      "WARNING:tensorflow:num_readers has been reduced to 1 to match input file shards.\n",
      "WARNING:tensorflow:From /data/virtual_envs/sdc-c1-gpu-augment/lib/python3.7/site-packages/object_detection/builders/dataset_builder.py:105: parallel_interleave (from tensorflow.python.data.experimental.ops.interleave_ops) is deprecated and will be removed in a future version.\n",
      "Instructions for updating:\n",
      "Use `tf.data.Dataset.interleave(map_func, cycle_length, block_length, num_parallel_calls=tf.data.experimental.AUTOTUNE)` instead. If sloppy execution is desired, use `tf.data.Options.experimental_deterministic`.\n",
      "WARNING:tensorflow:From /data/virtual_envs/sdc-c1-gpu-augment/lib/python3.7/site-packages/object_detection/builders/dataset_builder.py:237: DatasetV1.map_with_legacy_function (from tensorflow.python.data.ops.dataset_ops) is deprecated and will be removed in a future version.\n",
      "Instructions for updating:\n",
      "Use `tf.data.Dataset.map()\n"
     ]
    }
   ],
   "source": [
    "dataset = get_dataset(\"/home/workspace/data/waymo/training_and_validation/segment-1005081002024129653_5313_150_5333_150_with_camera_labels.tfrecord\")"
   ]
  },
  {
   "cell_type": "markdown",
   "metadata": {},
   "source": [
    "## Write a function to display an image and the bounding boxes\n",
    "\n",
    "Implement the `display_instances` function below. This function takes a batch as an input and display an image with its corresponding bounding boxes. The only requirement is that the classes should be color coded (eg, vehicles in red, pedestrians in blue, cyclist in green)."
   ]
  },
  {
   "cell_type": "code",
   "execution_count": 3,
   "metadata": {},
   "outputs": [],
   "source": [
    "import matplotlib.pyplot as plt\n",
    "from matplotlib.patches import Rectangle\n",
    "%matplotlib inline\n",
    "import numpy as np\n",
    "\n",
    "def display_instances(batch):\n",
    "    \"\"\"\n",
    "    This function takes a batch from the dataset and display the image with \n",
    "    the associated bounding boxes.\n",
    "    \"\"\"\n",
    "    # ADD CODE HERE\n",
    "    plt.figure()\n",
    "    # set class colors\n",
    "    colormap = {1: 'r', 2: 'b', 4: 'g'}\n",
    "    # unpack batch\n",
    "    img = batch['image'].numpy()\n",
    "    bboxes = batch['groundtruth_boxes'].numpy()\n",
    "    #bboxes[:, (0,2)] *= h\n",
    "    #bboxes[:, (1,3)] *= w\n",
    "    classes = batch['groundtruth_classes'].numpy()\n",
    "    f, ax = plt.subplots(1, figsize=(20, 10))\n",
    "    ax.imshow(img.astype(np.uint8))\n",
    "    h, w, c = img.shape\n",
    "    for cl, bb in zip(classes, bboxes):\n",
    "        y1, x1, y2, x2 = bb\n",
    "        rec = Rectangle((x1, y1), x2-x1, y2-y1, facecolor='none', edgecolor=colormap[cl], linewidth=2)\n",
    "        ax.add_patch(rec)\n",
    "    plt.show()\n",
    "    \n",
    "    \n",
    "        \n",
    "    "
   ]
  },
  {
   "cell_type": "markdown",
   "metadata": {},
   "source": [
    "## Display 10 images \n",
    "\n",
    "Using the dataset created in the second cell and the function you just coded, display 10 random images with the associated bounding boxes. You can use the methods `take` and `shuffle` on the dataset."
   ]
  },
  {
   "cell_type": "code",
   "execution_count": 4,
   "metadata": {},
   "outputs": [
    {
     "name": "stdout",
     "output_type": "stream",
     "text": [
      "[[0.501818   0.9184371  0.5472135  0.961201  ]\n",
      " [0.52826667 0.4005337  0.5805702  0.44461307]\n",
      " [0.520733   0.49847397 0.5342197  0.5100971 ]\n",
      " [0.50428516 0.6230372  0.5131669  0.6486956 ]\n",
      " [0.515634   0.4919494  0.52451575 0.5001732 ]\n",
      " [0.54671997 0.30650166 0.6700776  0.41423374]\n",
      " [0.5514077  0.19325995 0.64269215 0.29095903]\n",
      " [0.53019017 0.46201468 0.61752725 0.5248447 ]\n",
      " [0.5277231  0.36875644 0.53611135 0.38125667]\n",
      " [0.5218019  0.44309986 0.53019017 0.44967893]\n",
      " [0.5213085  0.4393169  0.5277231  0.4435933 ]\n",
      " [0.53093034 0.4026386  0.54869384 0.4092177 ]\n",
      " [0.52254206 0.36234188 0.5324106  0.36924988]\n",
      " [0.50576544 0.7080716  0.515634   0.73800635]\n",
      " [0.49762383 0.88044304 0.53759164 0.9478784 ]\n",
      " [0.522048   0.4537916  0.53981143 0.4669497 ]\n",
      " [0.5213085  0.4681003  0.5336442  0.47665307]\n",
      " [0.5218019  0.38915154 0.53019017 0.406915  ]\n",
      " [0.4867684  0.70692027 0.5484471  0.8687652 ]\n",
      " [0.53168815 0.48565313 0.53990006 0.5111701 ]\n",
      " [0.50354517 0.47500852 0.5361109  0.49079868]\n",
      " [0.51760775 0.46694896 0.52254206 0.47254115]]\n",
      "[[0.501818   0.5472135 ]\n",
      " [0.52826667 0.5805702 ]\n",
      " [0.520733   0.5342197 ]\n",
      " [0.50428516 0.5131669 ]\n",
      " [0.515634   0.52451575]\n",
      " [0.54671997 0.6700776 ]\n",
      " [0.5514077  0.64269215]\n",
      " [0.53019017 0.61752725]\n",
      " [0.5277231  0.53611135]\n",
      " [0.5218019  0.53019017]\n",
      " [0.5213085  0.5277231 ]\n",
      " [0.53093034 0.54869384]\n",
      " [0.52254206 0.5324106 ]\n",
      " [0.50576544 0.515634  ]\n",
      " [0.49762383 0.53759164]\n",
      " [0.522048   0.53981143]\n",
      " [0.5213085  0.5336442 ]\n",
      " [0.5218019  0.53019017]\n",
      " [0.4867684  0.5484471 ]\n",
      " [0.53168815 0.53990006]\n",
      " [0.50354517 0.5361109 ]\n",
      " [0.51760775 0.52254206]]\n",
      "[[0.9184371  0.961201  ]\n",
      " [0.4005337  0.44461307]\n",
      " [0.49847397 0.5100971 ]\n",
      " [0.6230372  0.6486956 ]\n",
      " [0.4919494  0.5001732 ]\n",
      " [0.30650166 0.41423374]\n",
      " [0.19325995 0.29095903]\n",
      " [0.46201468 0.5248447 ]\n",
      " [0.36875644 0.38125667]\n",
      " [0.44309986 0.44967893]\n",
      " [0.4393169  0.4435933 ]\n",
      " [0.4026386  0.4092177 ]\n",
      " [0.36234188 0.36924988]\n",
      " [0.7080716  0.73800635]\n",
      " [0.88044304 0.9478784 ]\n",
      " [0.4537916  0.4669497 ]\n",
      " [0.4681003  0.47665307]\n",
      " [0.38915154 0.406915  ]\n",
      " [0.70692027 0.8687652 ]\n",
      " [0.48565313 0.5111701 ]\n",
      " [0.47500852 0.49079868]\n",
      " [0.46694896 0.47254115]]\n"
     ]
    },
    {
     "data": {
      "text/plain": [
       "<Figure size 432x288 with 0 Axes>"
      ]
     },
     "metadata": {},
     "output_type": "display_data"
    },
    {
     "data": {
      "image/png": "[encoded data removed]",
      "text/plain": [
       "<Figure size 72x720 with 1 Axes>"
      ]
     },
     "metadata": {
      "needs_background": "light"
     },
     "output_type": "display_data"
    },
    {
     "name": "stdout",
     "output_type": "stream",
     "text": [
      "[[0.53093034 0.40543473 0.5832339  0.4498434 ]\n",
      " [0.52402234 0.5039562  0.53783834 0.5157985 ]\n",
      " [0.50650555 0.61020803 0.5148939  0.6266557 ]\n",
      " [0.51810116 0.4977881  0.5269829  0.50568306]\n",
      " [0.55079037 0.29112443 0.67488796 0.3996788 ]\n",
      " [0.5578223  0.17072667 0.65897536 0.27862328]\n",
      " [0.53438437 0.46513972 0.62221485 0.5296145 ]\n",
      " [0.52426904 0.4513237  0.53068364 0.45724484]\n",
      " [0.52402234 0.4470473  0.52994347 0.45099473]\n",
      " [0.5324106  0.40658605 0.5570821  0.41513884]\n",
      " [0.5250092  0.3796119  0.52895665 0.38290143]\n",
      " [0.5119333  0.65856415 0.5203216  0.6750118 ]\n",
      " [0.52414626 0.4590533  0.54190975 0.47221145]\n",
      " [0.5232822  0.47402146 0.53561795 0.48257422]\n",
      " [0.5252559  0.40329653 0.5336442  0.41645464]\n",
      " [0.49713042 0.6513272  0.5400588  0.7690924 ]\n",
      " [0.50502527 0.48092946 0.5351245  0.49606133]\n",
      " [0.5220486  0.47484383 0.5269829  0.48043603]]\n",
      "[[0.53093034 0.5832339 ]\n",
      " [0.52402234 0.53783834]\n",
      " [0.50650555 0.5148939 ]\n",
      " [0.51810116 0.5269829 ]\n",
      " [0.55079037 0.67488796]\n",
      " [0.5578223  0.65897536]\n",
      " [0.53438437 0.62221485]\n",
      " [0.52426904 0.53068364]\n",
      " [0.52402234 0.52994347]\n",
      " [0.5324106  0.5570821 ]\n",
      " [0.5250092  0.52895665]\n",
      " [0.5119333  0.5203216 ]\n",
      " [0.52414626 0.54190975]\n",
      " [0.5232822  0.53561795]\n",
      " [0.5252559  0.5336442 ]\n",
      " [0.49713042 0.5400588 ]\n",
      " [0.50502527 0.5351245 ]\n",
      " [0.5220486  0.5269829 ]]\n",
      "[[0.40543473 0.4498434 ]\n",
      " [0.5039562  0.5157985 ]\n",
      " [0.61020803 0.6266557 ]\n",
      " [0.4977881  0.50568306]\n",
      " [0.29112443 0.3996788 ]\n",
      " [0.17072667 0.27862328]\n",
      " [0.46513972 0.5296145 ]\n",
      " [0.4513237  0.45724484]\n",
      " [0.4470473  0.45099473]\n",
      " [0.40658605 0.41513884]\n",
      " [0.3796119  0.38290143]\n",
      " [0.65856415 0.6750118 ]\n",
      " [0.4590533  0.47221145]\n",
      " [0.47402146 0.48257422]\n",
      " [0.40329653 0.41645464]\n",
      " [0.6513272  0.7690924 ]\n",
      " [0.48092946 0.49606133]\n",
      " [0.47484383 0.48043603]]\n"
     ]
    },
    {
     "data": {
      "text/plain": [
       "<Figure size 432x288 with 0 Axes>"
      ]
     },
     "metadata": {},
     "output_type": "display_data"
    },
    {
     "data": {
      "image/png": "[encoded data removed]",
      "text/plain": [
       "<Figure size 72x720 with 1 Axes>"
      ]
     },
     "metadata": {
      "needs_background": "light"
     },
     "output_type": "display_data"
    },
    {
     "name": "stdout",
     "output_type": "stream",
     "text": [
      "[[0.5255026  0.38964498 0.5847142  0.43865898]\n",
      " [0.5146472  0.49639025 0.52945006 0.5115221 ]\n",
      " [0.5092194  0.49704817 0.51810116 0.4996798 ]\n",
      " [0.5644836  0.16102256 0.7500131  0.3310913 ]\n",
      " [0.5333975  0.44096166 0.6370177  0.51760775]\n",
      " [0.5131669  0.46645552 0.51908803 0.47040296]\n",
      " [0.53093034 0.35329565 0.5733653  0.39277002]\n",
      " [0.52426904 0.70083463 0.6323301  0.7301115 ]\n",
      " [0.5178531  0.436028   0.5405509  0.4551073 ]\n",
      " [0.51588076 0.46546867 0.5282165  0.47467935]\n",
      " [0.53093034 0.5881682  0.54869384 0.596721  ]\n",
      " [0.53438437 0.60823435 0.5620164  0.62007666]\n",
      " [0.5326573  0.48438346 0.5815069  0.52023935]\n",
      " [0.49836397 0.48652166 0.52303547 0.4996798 ]\n",
      " [0.51662093 0.57939607 0.54984516 0.58992255]]\n",
      "[[0.5255026  0.5847142 ]\n",
      " [0.5146472  0.52945006]\n",
      " [0.5092194  0.51810116]\n",
      " [0.5644836  0.7500131 ]\n",
      " [0.5333975  0.6370177 ]\n",
      " [0.5131669  0.51908803]\n",
      " [0.53093034 0.5733653 ]\n",
      " [0.52426904 0.6323301 ]\n",
      " [0.5178531  0.5405509 ]\n",
      " [0.51588076 0.5282165 ]\n",
      " [0.53093034 0.54869384]\n",
      " [0.53438437 0.5620164 ]\n",
      " [0.5326573  0.5815069 ]\n",
      " [0.49836397 0.52303547]\n",
      " [0.51662093 0.54984516]]\n",
      "[[0.38964498 0.43865898]\n",
      " [0.49639025 0.5115221 ]\n",
      " [0.49704817 0.4996798 ]\n",
      " [0.16102256 0.3310913 ]\n",
      " [0.44096166 0.51760775]\n",
      " [0.46645552 0.47040296]\n",
      " [0.35329565 0.39277002]\n",
      " [0.70083463 0.7301115 ]\n",
      " [0.436028   0.4551073 ]\n",
      " [0.46546867 0.47467935]\n",
      " [0.5881682  0.596721  ]\n",
      " [0.60823435 0.62007666]\n",
      " [0.48438346 0.52023935]\n",
      " [0.48652166 0.4996798 ]\n",
      " [0.57939607 0.58992255]]\n"
     ]
    },
    {
     "data": {
      "text/plain": [
       "<Figure size 432x288 with 0 Axes>"
      ]
     },
     "metadata": {},
     "output_type": "display_data"
    },
    {
     "data": {
      "image/png": "[encoded data removed]",
      "text/plain": [
       "<Figure size 72x720 with 1 Axes>"
      ]
     },
     "metadata": {
      "needs_background": "light"
     },
     "output_type": "display_data"
    },
    {
     "name": "stdout",
     "output_type": "stream",
     "text": [
      "[[0.535496   0.3981977  0.59347427 0.44490904]\n",
      " [0.5259982  0.4967192  0.5437617  0.5131669 ]\n",
      " [0.51707906 0.49340042 0.5229649  0.49888682]\n",
      " [0.5737976  0.18158221 0.75007504 0.3437561 ]\n",
      " [0.5395654  0.46283704 0.63578415 0.5338909 ]\n",
      " [0.52254206 0.47221223 0.5274763  0.4764886 ]\n",
      " [0.54301935 0.35214433 0.58397406 0.39392138]\n",
      " [0.52426904 0.5736942  0.55535513 0.58356285]\n",
      " [0.52714837 0.43449256 0.55181986 0.45411998]\n",
      " [0.525996   0.46431732 0.5388252  0.4758307 ]\n",
      " [0.530388   0.5542212  0.5403553  0.5589586 ]\n",
      " [0.5330285  0.5564247  0.5446237  0.5633327 ]\n",
      " [0.508726   0.49392313 0.53142375 0.5264895 ]\n",
      " [0.52217263 0.55001    0.54141665 0.556918  ]]\n",
      "[[0.535496   0.59347427]\n",
      " [0.5259982  0.5437617 ]\n",
      " [0.51707906 0.5229649 ]\n",
      " [0.5737976  0.75007504]\n",
      " [0.5395654  0.63578415]\n",
      " [0.52254206 0.5274763 ]\n",
      " [0.54301935 0.58397406]\n",
      " [0.52426904 0.55535513]\n",
      " [0.52714837 0.55181986]\n",
      " [0.525996   0.5388252 ]\n",
      " [0.530388   0.5403553 ]\n",
      " [0.5330285  0.5446237 ]\n",
      " [0.508726   0.53142375]\n",
      " [0.52217263 0.54141665]]\n",
      "[[0.3981977  0.44490904]\n",
      " [0.4967192  0.5131669 ]\n",
      " [0.49340042 0.49888682]\n",
      " [0.18158221 0.3437561 ]\n",
      " [0.46283704 0.5338909 ]\n",
      " [0.47221223 0.4764886 ]\n",
      " [0.35214433 0.39392138]\n",
      " [0.5736942  0.58356285]\n",
      " [0.43449256 0.45411998]\n",
      " [0.46431732 0.4758307 ]\n",
      " [0.5542212  0.5589586 ]\n",
      " [0.5564247  0.5633327 ]\n",
      " [0.49392313 0.5264895 ]\n",
      " [0.55001    0.556918  ]]\n"
     ]
    },
    {
     "data": {
      "text/plain": [
       "<Figure size 432x288 with 0 Axes>"
      ]
     },
     "metadata": {},
     "output_type": "display_data"
    },
    {
     "data": {
      "image/png": "[encoded data removed]",
      "text/plain": [
       "<Figure size 72x720 with 1 Axes>"
      ]
     },
     "metadata": {
      "needs_background": "light"
     },
     "output_type": "display_data"
    },
    {
     "name": "stdout",
     "output_type": "stream",
     "text": [
      "[[0.5331508  0.39836225 0.59186894 0.44507357]\n",
      " [0.52377564 0.4967192  0.54104567 0.5131669 ]\n",
      " [0.51958144 0.49392313 0.52945006 0.5008311 ]\n",
      " [0.56818426 0.1761544  0.7463124  0.34490734]\n",
      " [0.53783834 0.46365944 0.6365243  0.53306854]\n",
      " [0.5220486  0.47221223 0.5269829  0.4764886 ]\n",
      " [0.5400588  0.3495127  0.5800266  0.39128974]\n",
      " [0.5215552  0.561194   0.5462267  0.5677731 ]\n",
      " [0.5252559  0.4329023  0.5514077  0.4519816 ]\n",
      " [0.5255026  0.46415287 0.5383318  0.47599518]\n",
      " [0.53043693 0.5431016  0.53635806 0.54704905]\n",
      " [0.53068364 0.55116093 0.5390719  0.5554373 ]\n",
      " [0.5094662  0.5037917  0.52969676 0.53109485]\n",
      " [0.5218019  0.5416213  0.5370982  0.5485293 ]]\n",
      "[[0.5331508  0.59186894]\n",
      " [0.52377564 0.54104567]\n",
      " [0.51958144 0.52945006]\n",
      " [0.56818426 0.7463124 ]\n",
      " [0.53783834 0.6365243 ]\n",
      " [0.5220486  0.5269829 ]\n",
      " [0.5400588  0.5800266 ]\n",
      " [0.5215552  0.5462267 ]\n",
      " [0.5252559  0.5514077 ]\n",
      " [0.5255026  0.5383318 ]\n",
      " [0.53043693 0.53635806]\n",
      " [0.53068364 0.5390719 ]\n",
      " [0.5094662  0.52969676]\n",
      " [0.5218019  0.5370982 ]]\n",
      "[[0.39836225 0.44507357]\n",
      " [0.4967192  0.5131669 ]\n",
      " [0.49392313 0.5008311 ]\n",
      " [0.1761544  0.34490734]\n",
      " [0.46365944 0.53306854]\n",
      " [0.47221223 0.4764886 ]\n",
      " [0.3495127  0.39128974]\n",
      " [0.561194   0.5677731 ]\n",
      " [0.4329023  0.4519816 ]\n",
      " [0.46415287 0.47599518]\n",
      " [0.5431016  0.54704905]\n",
      " [0.55116093 0.5554373 ]\n",
      " [0.5037917  0.53109485]\n",
      " [0.5416213  0.5485293 ]]\n"
     ]
    },
    {
     "data": {
      "text/plain": [
       "<Figure size 432x288 with 0 Axes>"
      ]
     },
     "metadata": {},
     "output_type": "display_data"
    },
    {
     "data": {
      "image/png": "[encoded data removed]",
      "text/plain": [
       "<Figure size 72x720 with 1 Axes>"
      ]
     },
     "metadata": {
      "needs_background": "light"
     },
     "output_type": "display_data"
    },
    {
     "name": "stdout",
     "output_type": "stream",
     "text": [
      "[[0.5331508  0.39836225 0.59186894 0.44507357]\n",
      " [0.52377564 0.4967192  0.54104567 0.5131669 ]\n",
      " [0.51958144 0.49392313 0.52945006 0.5008311 ]\n",
      " [0.56818426 0.1761544  0.7463124  0.34490734]\n",
      " [0.53783834 0.46365944 0.6365243  0.53306854]\n",
      " [0.5220486  0.47221223 0.5269829  0.4764886 ]\n",
      " [0.5400588  0.3495127  0.5800266  0.39128974]\n",
      " [0.5215552  0.561194   0.5462267  0.5677731 ]\n",
      " [0.5252559  0.4329023  0.5514077  0.4519816 ]\n",
      " [0.5255026  0.46415287 0.5383318  0.47599518]\n",
      " [0.53043693 0.5431016  0.53635806 0.54704905]\n",
      " [0.53068364 0.55116093 0.5390719  0.5554373 ]\n",
      " [0.5094662  0.5037917  0.52969676 0.53109485]\n",
      " [0.5218019  0.5416213  0.5370982  0.5485293 ]]\n",
      "[[0.5331508  0.59186894]\n",
      " [0.52377564 0.54104567]\n",
      " [0.51958144 0.52945006]\n",
      " [0.56818426 0.7463124 ]\n",
      " [0.53783834 0.6365243 ]\n",
      " [0.5220486  0.5269829 ]\n",
      " [0.5400588  0.5800266 ]\n",
      " [0.5215552  0.5462267 ]\n",
      " [0.5252559  0.5514077 ]\n",
      " [0.5255026  0.5383318 ]\n",
      " [0.53043693 0.53635806]\n",
      " [0.53068364 0.5390719 ]\n",
      " [0.5094662  0.52969676]\n",
      " [0.5218019  0.5370982 ]]\n",
      "[[0.39836225 0.44507357]\n",
      " [0.4967192  0.5131669 ]\n",
      " [0.49392313 0.5008311 ]\n",
      " [0.1761544  0.34490734]\n",
      " [0.46365944 0.53306854]\n",
      " [0.47221223 0.4764886 ]\n",
      " [0.3495127  0.39128974]\n",
      " [0.561194   0.5677731 ]\n",
      " [0.4329023  0.4519816 ]\n",
      " [0.46415287 0.47599518]\n",
      " [0.5431016  0.54704905]\n",
      " [0.55116093 0.5554373 ]\n",
      " [0.5037917  0.53109485]\n",
      " [0.5416213  0.5485293 ]]\n"
     ]
    },
    {
     "data": {
      "text/plain": [
       "<Figure size 432x288 with 0 Axes>"
      ]
     },
     "metadata": {},
     "output_type": "display_data"
    },
    {
     "data": {
      "image/png": "[encoded data removed]",
      "text/plain": [
       "<Figure size 72x720 with 1 Axes>"
      ]
     },
     "metadata": {
      "needs_background": "light"
     },
     "output_type": "display_data"
    },
    {
     "name": "stdout",
     "output_type": "stream",
     "text": [
      "[[5.3080720e-01 3.9367467e-01 5.8533108e-01 4.3841243e-01]\n",
      " [5.2063018e-01 4.9634913e-01 5.3456956e-01 5.0893164e-01]\n",
      " [5.1528865e-01 4.9415341e-01 5.2407169e-01 5.0073248e-01]\n",
      " [5.5671173e-01 2.4210915e-01 6.8771791e-01 3.6020344e-01]\n",
      " [5.8076674e-01 4.9342966e-04 7.2386134e-01 1.6266732e-01]\n",
      " [5.3816730e-01 4.4194859e-01 6.4211649e-01 5.1947176e-01]\n",
      " [5.3191721e-01 3.8207906e-01 5.6547040e-01 4.0280309e-01]\n",
      " [5.2007490e-01 4.5137849e-01 5.3898966e-01 4.6651036e-01]\n",
      " [5.2081501e-01 4.6711344e-01 5.3117704e-01 4.7632411e-01]\n",
      " [5.2180189e-01 4.1744152e-01 5.2821648e-01 4.2599431e-01]\n",
      " [5.3216392e-01 4.8323214e-01 5.6818426e-01 5.1349580e-01]\n",
      " [5.0167012e-01 4.7977823e-01 5.3157192e-01 4.9458110e-01]]\n",
      "[[0.5308072  0.5853311 ]\n",
      " [0.5206302  0.53456956]\n",
      " [0.51528865 0.5240717 ]\n",
      " [0.55671173 0.6877179 ]\n",
      " [0.58076674 0.72386134]\n",
      " [0.5381673  0.6421165 ]\n",
      " [0.5319172  0.5654704 ]\n",
      " [0.5200749  0.53898966]\n",
      " [0.520815   0.53117704]\n",
      " [0.5218019  0.5282165 ]\n",
      " [0.5321639  0.56818426]\n",
      " [0.5016701  0.5315719 ]]\n",
      "[[3.9367467e-01 4.3841243e-01]\n",
      " [4.9634913e-01 5.0893164e-01]\n",
      " [4.9415341e-01 5.0073248e-01]\n",
      " [2.4210915e-01 3.6020344e-01]\n",
      " [4.9342966e-04 1.6266732e-01]\n",
      " [4.4194859e-01 5.1947176e-01]\n",
      " [3.8207906e-01 4.0280309e-01]\n",
      " [4.5137849e-01 4.6651036e-01]\n",
      " [4.6711344e-01 4.7632411e-01]\n",
      " [4.1744152e-01 4.2599431e-01]\n",
      " [4.8323214e-01 5.1349580e-01]\n",
      " [4.7977823e-01 4.9458110e-01]]\n"
     ]
    },
    {
     "data": {
      "text/plain": [
       "<Figure size 432x288 with 0 Axes>"
      ]
     },
     "metadata": {},
     "output_type": "display_data"
    },
    {
     "data": {
      "image/png": "[encoded data removed]",
      "text/plain": [
       "<Figure size 72x720 with 1 Axes>"
      ]
     },
     "metadata": {
      "needs_background": "light"
     },
     "output_type": "display_data"
    },
    {
     "name": "stdout",
     "output_type": "stream",
     "text": [
      "[[0.5351245  0.39704642 0.5898952  0.43981034]\n",
      " [0.5250092  0.49935085 0.5398121  0.5118511 ]\n",
      " [0.52254206 0.49490997 0.53142375 0.50313383]\n",
      " [0.56094784 0.25038704 0.6890746  0.3647543 ]\n",
      " [0.5791641  0.05361563 0.70227534 0.20263237]\n",
      " [0.54252595 0.45066577 0.64170533 0.52237755]\n",
      " [0.5380851  0.38931602 0.56917113 0.40675053]\n",
      " [0.5211321  0.45376712 0.5405169  0.46889895]\n",
      " [0.5272296  0.47040296 0.53759164 0.47961366]\n",
      " [0.5279698  0.41513884 0.5338909  0.42434952]\n",
      " [0.5213085  0.5799444  0.5336442  0.589155  ]\n",
      " [0.5380851  0.4870151  0.56719744 0.5162919 ]\n",
      " [0.52303547 0.50198245 0.5269829  0.5059299 ]\n",
      " [0.5074924  0.48109394 0.53759164 0.49589685]\n",
      " [0.52895665 0.45296845 0.5329041  0.45560008]]\n",
      "[[0.5351245  0.5898952 ]\n",
      " [0.5250092  0.5398121 ]\n",
      " [0.52254206 0.53142375]\n",
      " [0.56094784 0.6890746 ]\n",
      " [0.5791641  0.70227534]\n",
      " [0.54252595 0.64170533]\n",
      " [0.5380851  0.56917113]\n",
      " [0.5211321  0.5405169 ]\n",
      " [0.5272296  0.53759164]\n",
      " [0.5279698  0.5338909 ]\n",
      " [0.5213085  0.5336442 ]\n",
      " [0.5380851  0.56719744]\n",
      " [0.52303547 0.5269829 ]\n",
      " [0.5074924  0.53759164]\n",
      " [0.52895665 0.5329041 ]]\n",
      "[[0.39704642 0.43981034]\n",
      " [0.49935085 0.5118511 ]\n",
      " [0.49490997 0.50313383]\n",
      " [0.25038704 0.3647543 ]\n",
      " [0.05361563 0.20263237]\n",
      " [0.45066577 0.52237755]\n",
      " [0.38931602 0.40675053]\n",
      " [0.45376712 0.46889895]\n",
      " [0.47040296 0.47961366]\n",
      " [0.41513884 0.42434952]\n",
      " [0.5799444  0.589155  ]\n",
      " [0.4870151  0.5162919 ]\n",
      " [0.50198245 0.5059299 ]\n",
      " [0.48109394 0.49589685]\n",
      " [0.45296845 0.45560008]]\n"
     ]
    },
    {
     "data": {
      "text/plain": [
       "<Figure size 432x288 with 0 Axes>"
      ]
     },
     "metadata": {},
     "output_type": "display_data"
    },
    {
     "data": {
      "image/png": "[encoded data removed]",
      "text/plain": [
       "<Figure size 72x720 with 1 Axes>"
      ]
     },
     "metadata": {
      "needs_background": "light"
     },
     "output_type": "display_data"
    },
    {
     "name": "stdout",
     "output_type": "stream",
     "text": [
      "[[0.5310532  0.38380617 0.5914987  0.43232697]\n",
      " [0.5205683  0.49425206 0.5383318  0.50905496]\n",
      " [0.51600367 0.4939233  0.5246386  0.4995155 ]\n",
      " [0.56744385 0.14827614 0.744585   0.31094298]\n",
      " [0.53635806 0.4287904  0.64886004 0.5113576 ]\n",
      " [0.5351245  0.35674965 0.5750923  0.38931602]\n",
      " [0.520815   0.43684974 0.54301935 0.45592904]\n",
      " [0.5198282  0.46513972 0.5321639  0.4743504 ]\n",
      " [0.5578223  0.6475442  0.5889083  0.66497874]\n",
      " [0.5755857  0.73998004 0.63726443 0.7639936 ]\n",
      " [0.535041   0.48624763 0.5853708  0.52210355]\n",
      " [0.5033791  0.48235497 0.5295308  0.49551335]\n",
      " [0.5218018  0.642036   0.5879214  0.668517  ]]\n",
      "[[0.5310532  0.5914987 ]\n",
      " [0.5205683  0.5383318 ]\n",
      " [0.51600367 0.5246386 ]\n",
      " [0.56744385 0.744585  ]\n",
      " [0.53635806 0.64886004]\n",
      " [0.5351245  0.5750923 ]\n",
      " [0.520815   0.54301935]\n",
      " [0.5198282  0.5321639 ]\n",
      " [0.5578223  0.5889083 ]\n",
      " [0.5755857  0.63726443]\n",
      " [0.535041   0.5853708 ]\n",
      " [0.5033791  0.5295308 ]\n",
      " [0.5218018  0.5879214 ]]\n",
      "[[0.38380617 0.43232697]\n",
      " [0.49425206 0.50905496]\n",
      " [0.4939233  0.4995155 ]\n",
      " [0.14827614 0.31094298]\n",
      " [0.4287904  0.5113576 ]\n",
      " [0.35674965 0.38931602]\n",
      " [0.43684974 0.45592904]\n",
      " [0.46513972 0.4743504 ]\n",
      " [0.6475442  0.66497874]\n",
      " [0.73998004 0.7639936 ]\n",
      " [0.48624763 0.52210355]\n",
      " [0.48235497 0.49551335]\n",
      " [0.642036   0.668517  ]]\n"
     ]
    },
    {
     "data": {
      "text/plain": [
       "<Figure size 432x288 with 0 Axes>"
      ]
     },
     "metadata": {},
     "output_type": "display_data"
    },
    {
     "data": {
      "image/png": "[encoded data removed]",
      "text/plain": [
       "<Figure size 72x720 with 1 Axes>"
      ]
     },
     "metadata": {
      "needs_background": "light"
     },
     "output_type": "display_data"
    },
    {
     "name": "stdout",
     "output_type": "stream",
     "text": [
      "[[0.5255026  0.38964498 0.5847142  0.43865898]\n",
      " [0.5146472  0.49639025 0.52945006 0.5115221 ]\n",
      " [0.5092194  0.49704817 0.51810116 0.4996798 ]\n",
      " [0.5644836  0.16102256 0.7500131  0.3310913 ]\n",
      " [0.5333975  0.44096166 0.6370177  0.51760775]\n",
      " [0.5131669  0.46645552 0.51908803 0.47040296]\n",
      " [0.53093034 0.35329565 0.5733653  0.39277002]\n",
      " [0.52426904 0.70083463 0.6323301  0.7301115 ]\n",
      " [0.5178531  0.436028   0.5405509  0.4551073 ]\n",
      " [0.51588076 0.46546867 0.5282165  0.47467935]\n",
      " [0.53093034 0.5881682  0.54869384 0.596721  ]\n",
      " [0.53438437 0.60823435 0.5620164  0.62007666]\n",
      " [0.5326573  0.48438346 0.5815069  0.52023935]\n",
      " [0.49836397 0.48652166 0.52303547 0.4996798 ]\n",
      " [0.51662093 0.57939607 0.54984516 0.58992255]]\n",
      "[[0.5255026  0.5847142 ]\n",
      " [0.5146472  0.52945006]\n",
      " [0.5092194  0.51810116]\n",
      " [0.5644836  0.7500131 ]\n",
      " [0.5333975  0.6370177 ]\n",
      " [0.5131669  0.51908803]\n",
      " [0.53093034 0.5733653 ]\n",
      " [0.52426904 0.6323301 ]\n",
      " [0.5178531  0.5405509 ]\n",
      " [0.51588076 0.5282165 ]\n",
      " [0.53093034 0.54869384]\n",
      " [0.53438437 0.5620164 ]\n",
      " [0.5326573  0.5815069 ]\n",
      " [0.49836397 0.52303547]\n",
      " [0.51662093 0.54984516]]\n",
      "[[0.38964498 0.43865898]\n",
      " [0.49639025 0.5115221 ]\n",
      " [0.49704817 0.4996798 ]\n",
      " [0.16102256 0.3310913 ]\n",
      " [0.44096166 0.51760775]\n",
      " [0.46645552 0.47040296]\n",
      " [0.35329565 0.39277002]\n",
      " [0.70083463 0.7301115 ]\n",
      " [0.436028   0.4551073 ]\n",
      " [0.46546867 0.47467935]\n",
      " [0.5881682  0.596721  ]\n",
      " [0.60823435 0.62007666]\n",
      " [0.48438346 0.52023935]\n",
      " [0.48652166 0.4996798 ]\n",
      " [0.57939607 0.58992255]]\n"
     ]
    },
    {
     "data": {
      "text/plain": [
       "<Figure size 432x288 with 0 Axes>"
      ]
     },
     "metadata": {},
     "output_type": "display_data"
    },
    {
     "data": {
      "image/png": "[encoded data removed]",
      "text/plain": [
       "<Figure size 72x720 with 1 Axes>"
      ]
     },
     "metadata": {
      "needs_background": "light"
     },
     "output_type": "display_data"
    }
   ],
   "source": [
    "## STUDENT SOLUTION HERE\n",
    "\n",
    "dataset = dataset.shuffle(100)\n",
    "dataset = dataset.take(10)\n",
    "\n",
    "for batch in dataset:\n",
    "    display_instances(batch)"
   ]
  },
  {
   "cell_type": "markdown",
   "metadata": {},
   "source": [
    "## Additional EDA\n",
    "\n",
    "In this last part, you are free to perform any additional analysis of the dataset. What else would like to know about the data?\n",
    "For example, think about data distribution. So far, you have only looked at a single file..."
   ]
  },
  {
   "cell_type": "code",
   "execution_count": null,
   "metadata": {},
   "outputs": [],
   "source": []
  }
 ],
 "metadata": {
  "kernelspec": {
   "display_name": "Python 3",
   "language": "python",
   "name": "python3"
  },
  "language_info": {
   "codemirror_mode": {
    "name": "ipython",
    "version": 3
   },
   "file_extension": ".py",
   "mimetype": "text/x-python",
   "name": "python",
   "nbconvert_exporter": "python",
   "pygments_lexer": "ipython3",
   "version": "3.7.3"
  }
 },
 "nbformat": 4,
 "nbformat_minor": 4
}
